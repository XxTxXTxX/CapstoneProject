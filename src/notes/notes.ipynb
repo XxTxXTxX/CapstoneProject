{
 "cells": [
  {
   "cell_type": "markdown",
   "metadata": {},
   "source": [
    "Output of feautures_extraction.py:\n",
    "1. msa_feat: N_clust, N_res, 49\n",
    "2. extra_msa_feat: N_extra, N_res, 25\n",
    "3. target_feat: N_res, 21\n",
    "4. residue_index: Nres, "
   ]
  },
  {
   "cell_type": "markdown",
   "metadata": {},
   "source": [
    "![](pics/process.png)"
   ]
  },
  {
   "cell_type": "markdown",
   "metadata": {
    "vscode": {
     "languageId": "plaintext"
    }
   },
   "source": [
    "Feature Embedding\n",
    "\n",
    "$c_m$: MSA embed dim = 49\n",
    "\n",
    "$c_z$: pair representation embed dim\n",
    "\n",
    "$tf_{dim}$: $f$\n",
    "\n",
    "$msa_{feat\\_dim}$: $f_c$\n",
    "\n",
    "\n",
    "\n",
    "\n"
   ]
  }
 ],
 "metadata": {
  "kernelspec": {
   "display_name": "base",
   "language": "python",
   "name": "python3"
  },
  "language_info": {
   "codemirror_mode": {
    "name": "ipython",
    "version": 3
   },
   "file_extension": ".py",
   "mimetype": "text/x-python",
   "name": "python",
   "nbconvert_exporter": "python",
   "pygments_lexer": "ipython3",
   "version": "3.12.2"
  }
 },
 "nbformat": 4,
 "nbformat_minor": 2
}
