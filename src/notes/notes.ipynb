{
 "cells": [
  {
   "cell_type": "markdown",
   "metadata": {},
   "source": [
    "Output of feautures_extraction.py:\n",
    "1. msa_feat: N_clust, N_res, 49\n",
    "2. extra_msa_feat: N_extra, N_res, 25\n",
    "3. target_feat: N_res, 21\n",
    "4. residue_index: Nres, "
   ]
  },
  {
   "cell_type": "markdown",
   "metadata": {},
   "source": [
    "![](pics/process.png)"
   ]
  },
  {
   "cell_type": "markdown",
   "metadata": {
    "vscode": {
     "languageId": "plaintext"
    }
   },
   "source": [
    "Feature Embedding\n",
    "\n",
    "$c_m$: MSA embed dim = 49\n",
    "\n",
    "$c_z$: pair representation embed dim\n",
    "\n",
    "$tf_{dim}$: $f$\n",
    "\n",
    "$msa_{feat\\_dim}$: $f_c$\n",
    "\n",
    "\n",
    "\n",
    "\n"
   ]
  },
  {
   "cell_type": "markdown",
   "metadata": {},
   "source": []
  }
 ],
 "metadata": {
  "language_info": {
   "name": "python"
  }
 },
 "nbformat": 4,
 "nbformat_minor": 2
}
